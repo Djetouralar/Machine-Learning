{
 "cells": [
  {
   "cell_type": "code",
   "execution_count": 1,
   "id": "70e00c36",
   "metadata": {},
   "outputs": [],
   "source": [
    "def fit(self, X, y):\n",
    "    n_samples, n_features = X.shape\n",
    "    self.weights = np.zeros(n_features)\n",
    "    self.bias = 0\n",
    "    \n",
    "    for i in range(self.epochs):\n",
    "        for j in range(n_samples):\n",
    "            # Calcul de la prédiction\n",
    "            y_pred = np.dot(X[j], self.weights) + self.bias\n",
    "            \n",
    "            # Calcul de l'erreur\n",
    "            error = y_pred - y[j]\n",
    "            \n",
    "            # Mise à jour des poids et du biais\n",
    "            self.weights -= self.learning_rate * error * X[j]\n",
    "            self.bias -= self.learning_rate * error\n",
    "            \n",
    "def predict(self, X):\n",
    "    return np.dot(X, self.weights) + self.bias\n",
    "    \n"
   ]
  },
  {
   "cell_type": "code",
   "execution_count": null,
   "id": "b19b1870",
   "metadata": {},
   "outputs": [],
   "source": []
  }
 ],
 "metadata": {
  "kernelspec": {
   "display_name": "Python 3 (ipykernel)",
   "language": "python",
   "name": "python3"
  },
  "language_info": {
   "codemirror_mode": {
    "name": "ipython",
    "version": 3
   },
   "file_extension": ".py",
   "mimetype": "text/x-python",
   "name": "python",
   "nbconvert_exporter": "python",
   "pygments_lexer": "ipython3",
   "version": "3.9.13"
  }
 },
 "nbformat": 4,
 "nbformat_minor": 5
}
