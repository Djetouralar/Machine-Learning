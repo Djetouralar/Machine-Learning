{
 "cells": [
  {
   "cell_type": "code",
   "execution_count": 1,
   "id": "a1d6df44",
   "metadata": {},
   "outputs": [
    {
     "name": "stdout",
     "output_type": "stream",
     "text": [
      "[[-2.68412563  0.31939725]\n",
      " [-2.71414169 -0.17700123]\n",
      " [-2.88899057 -0.14494943]\n",
      " [-2.74534286 -0.31829898]\n",
      " [-2.72871654  0.32675451]]\n"
     ]
    }
   ],
   "source": [
    "from sklearn.datasets import load_iris\n",
    "from sklearn.decomposition import PCA\n",
    "\n",
    "# Charger l'ensemble de données iris\n",
    "iris = load_iris()\n",
    "\n",
    "# Instancier PCA avec 2 composants principaux\n",
    "pca = PCA(n_components=2)\n",
    "\n",
    "# Appliquer PCA sur les données iris\n",
    "iris_pca = pca.fit_transform(iris.data)\n",
    "\n",
    "# Afficher les premiers éléments des données transformées\n",
    "print(iris_pca[:5])\n"
   ]
  },
  {
   "cell_type": "code",
   "execution_count": null,
   "id": "f1fdc977",
   "metadata": {},
   "outputs": [],
   "source": []
  }
 ],
 "metadata": {
  "kernelspec": {
   "display_name": "Python 3 (ipykernel)",
   "language": "python",
   "name": "python3"
  },
  "language_info": {
   "codemirror_mode": {
    "name": "ipython",
    "version": 3
   },
   "file_extension": ".py",
   "mimetype": "text/x-python",
   "name": "python",
   "nbconvert_exporter": "python",
   "pygments_lexer": "ipython3",
   "version": "3.9.13"
  }
 },
 "nbformat": 4,
 "nbformat_minor": 5
}
