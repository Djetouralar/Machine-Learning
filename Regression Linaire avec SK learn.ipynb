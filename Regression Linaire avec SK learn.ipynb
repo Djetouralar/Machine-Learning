{
 "cells": [
  {
   "cell_type": "code",
   "execution_count": 1,
   "id": "5fae7e67",
   "metadata": {},
   "outputs": [
    {
     "name": "stdout",
     "output_type": "stream",
     "text": [
      "[7.]\n"
     ]
    }
   ],
   "source": [
    "import numpy as np\n",
    "from sklearn.linear_model import LinearRegression\n",
    "\n",
    "# Créer une série de données d'entrée X et de sortie Y\n",
    "X = np.array([1, 2, 3, 4, 5]).reshape((-1, 1))\n",
    "Y = np.array([2, 3, 4, 5, 6])\n",
    "\n",
    "# Créer un modèle de régression linéaire et l'entraîner sur les données\n",
    "model = LinearRegression()\n",
    "model.fit(X, Y)\n",
    "\n",
    "# Prédire une sortie Y pour une nouvelle entrée X\n",
    "X_new = np.array([6]).reshape((-1, 1))\n",
    "Y_new = model.predict(X_new)\n",
    "\n",
    "# Afficher la prédiction\n",
    "print(Y_new)\n"
   ]
  },
  {
   "cell_type": "code",
   "execution_count": null,
   "id": "3fc3b431",
   "metadata": {},
   "outputs": [],
   "source": []
  }
 ],
 "metadata": {
  "kernelspec": {
   "display_name": "Python 3 (ipykernel)",
   "language": "python",
   "name": "python3"
  },
  "language_info": {
   "codemirror_mode": {
    "name": "ipython",
    "version": 3
   },
   "file_extension": ".py",
   "mimetype": "text/x-python",
   "name": "python",
   "nbconvert_exporter": "python",
   "pygments_lexer": "ipython3",
   "version": "3.9.13"
  }
 },
 "nbformat": 4,
 "nbformat_minor": 5
}
